{
 "cells": [
  {
   "cell_type": "markdown",
   "metadata": {},
   "source": [
    "# Download files"
   ]
  },
  {
   "cell_type": "code",
   "execution_count": 1,
   "metadata": {},
   "outputs": [],
   "source": [
    "from common.gdrive import download_drive_folder\n",
    "\n",
    "root_data_location = download_drive_folder('10n42aUAWZKvU-kfdZOaHoapfGYVss7Ku')\n",
    "root_data_location = f\"{root_data_location}/data\"\n",
    "\n",
    "raw_data_location = f\"{root_data_location}/raw\"\n",
    "synthetic_data_location = f\"{root_data_location}/synthetic\""
   ]
  },
  {
   "cell_type": "code",
   "execution_count": 2,
   "metadata": {},
   "outputs": [],
   "source": [
    "import bids\n",
    "\n",
    "raw_layout = bids.BIDSLayout(raw_data_location)"
   ]
  },
  {
   "cell_type": "code",
   "execution_count": 3,
   "metadata": {},
   "outputs": [],
   "source": [
    "raw_T1w = raw_layout.get(suffix='T1w', extension='nii.gz', acquisition=None, run=None)\n",
    "raw_T2w = raw_layout.get(suffix='T2w', extension='nii.gz', acquisition=None, run=None)"
   ]
  },
  {
   "cell_type": "code",
   "execution_count": 4,
   "metadata": {},
   "outputs": [],
   "source": [
    "from os import path\n",
    "\n",
    "from tqdm import tqdm\n",
    "\n",
    "from common.os_utils import make_directory\n",
    "\n",
    "\n",
    "def get_constrast_from_suffix(suffix):\n",
    "    suffix_to_contrast_map = {\n",
    "        'T1w': 't1',\n",
    "        'T2w': 't2',\n",
    "    }\n",
    "\n",
    "    return suffix_to_contrast_map[suffix]\n",
    "\n",
    "\n",
    "def segment_image(bids_image_file):\n",
    "    image_path = bids_image_file.path\n",
    "    output_dir = path.dirname(image_path).replace(raw_data_location, synthetic_data_location)\n",
    "    make_directory(output_dir)\n",
    "\n",
    "    constrast = get_constrast_from_suffix(bids_image_file.suffix)\n",
    "\n",
    "    !sct_propseg -i {image_path} -c {constrast} -ofolder {output_dir}\n",
    "\n",
    "\n",
    "def segment_images(images):\n",
    "    for image in tqdm(images):\n",
    "        segment_image(image)\n"
   ]
  },
  {
   "cell_type": "code",
   "execution_count": 5,
   "metadata": {},
   "outputs": [
    {
     "name": "stderr",
     "output_type": "stream",
     "text": [
      "  0%|          | 0/20 [00:00<?, ?it/s]/home/vscode/.local/lib/python3.7/site-packages/bids/layout/models.py:213: UserWarning: Accessing entities as attributes is deprecated as of 0.7. Please use the .entities dictionary instead (i.e., .entities['suffix'] instead of .suffix.\n",
      "  % (attr, attr))\n"
     ]
    },
    {
     "name": "stdout",
     "output_type": "stream",
     "text": [
      "\n",
      "--\n",
      "Spinal Cord Toolbox (5.4)\n",
      "\n",
      "sct_propseg -i /workspaces/PhD/gdrive_data/BMPD/data/raw/sub-P010/anat/sub-P010_T1w.nii.gz -c t1 -ofolder /workspaces/PhD/gdrive_data/BMPD/data/synthetic/sub-P010/anat\n",
      "--\n",
      "\n",
      "Creating temporary folder (/tmp/sct-20220115000234.164998-label_vertebrae-egoibb9b)\n",
      "Creating temporary folder (/tmp/sct-20220115000234.165745-e_a7b495)\n",
      "Remove temporary files...\n",
      "\u001b[94mrm -rf /tmp/sct-20220115000234.165745-e_a7b495\u001b[0m\n",
      "\u001b[94m/home/vscode/sct_5.4/bin/isct_propseg -t t1 -o /workspaces/PhD/gdrive_data/BMPD/data/synthetic/sub-P010/anat -verbose -mesh -centerline-binary -CSF -centerline-coord -cross -init-tube -low-resolution-mesh -i /workspaces/PhD/gdrive_data/BMPD/data/raw/sub-P010/anat/sub-P010_T1w.nii.gz -init-centerline /tmp/sct-20220115000234.164998-label_vertebrae-egoibb9b/centerline_optic.nii.gz -centerline-binary # in /workspaces/PhD\u001b[0m\n",
      "\u001b[94mmv /workspaces/PhD/gdrive_data/BMPD/data/synthetic/sub-P010/anat/sub-P010_T1w_seg.nii.gz /workspaces/PhD/gdrive_data/BMPD/data/synthetic/sub-P010/anat/sub-P010_T1w_seg.nii.gz\u001b[0m\n",
      "\u001b[94mmv /workspaces/PhD/gdrive_data/BMPD/data/synthetic/sub-P010/anat/sub-P010_T1w_centerline.nii.gz /workspaces/PhD/gdrive_data/BMPD/data/synthetic/sub-P010/anat/sub-P010_T1w_centerline.nii.gz\u001b[0m\n",
      "\u001b[0m\n",
      "Check consistency of segmentation...\u001b[0m\n",
      "Creating temporary folder (/tmp/sct-20220115000334.860843-propseg-1f2trn25)\n",
      "\u001b[0m/tmp/sct-20220115000334.860843-propseg-1f2trn25/tmp.segmentation.nii.gz\u001b[0m\n",
      "\u001b[0m/tmp/sct-20220115000334.860843-propseg-1f2trn25/tmp.centerline.nii.gz\u001b[0m\n",
      "\u001b[0m\n",
      "Get data dimensions...\u001b[0m\n",
      "\u001b[0m/tmp/sct-20220115000334.860843-propseg-1f2trn25/tmp.segmentation_RPI_c.nii.gz\u001b[0m\n",
      "\u001b[94mrm -rf /tmp/sct-20220115000334.860843-propseg-1f2trn25\u001b[0m\n",
      "\u001b[0mCopy header input --> output(s) to make sure qform is the same.\u001b[0m\n",
      "\u001b[33mFile /workspaces/PhD/gdrive_data/BMPD/data/synthetic/sub-P010/anat/sub-P010_T1w_seg.nii.gz already exists. Will overwrite it.\u001b[0m\n",
      "\u001b[33mFile /workspaces/PhD/gdrive_data/BMPD/data/synthetic/sub-P010/anat/sub-P010_T1w_centerline.nii.gz already exists. Will overwrite it.\u001b[0m\n",
      "\u001b[0m\n",
      "Done! To view results, type:\u001b[0m\n",
      "\u001b[92mfsleyes /workspaces/PhD/gdrive_data/BMPD/data/raw/sub-P010/anat/sub-P010_T1w.nii.gz -cm greyscale /workspaces/PhD/gdrive_data/BMPD/data/synthetic/sub-P010/anat/sub-P010_T1w_seg.nii.gz -cm red -a 100.0 &\n",
      "\u001b[0m\n"
     ]
    },
    {
     "name": "stderr",
     "output_type": "stream",
     "text": [
      "  5%|▌         | 1/20 [01:03<20:08, 63.59s/it]"
     ]
    },
    {
     "name": "stdout",
     "output_type": "stream",
     "text": [
      "\n",
      "--\n",
      "Spinal Cord Toolbox (5.4)\n",
      "\n",
      "sct_propseg -i /workspaces/PhD/gdrive_data/BMPD/data/raw/sub-P011/anat/sub-P011_T1w.nii.gz -c t1 -ofolder /workspaces/PhD/gdrive_data/BMPD/data/synthetic/sub-P011/anat\n",
      "--\n",
      "\n",
      "Creating temporary folder (/tmp/sct-20220115000337.771364-label_vertebrae-cv_yhf1w)\n",
      "Creating temporary folder (/tmp/sct-20220115000337.772089-syftap7w)\n",
      "Remove temporary files...\n",
      "\u001b[94mrm -rf /tmp/sct-20220115000337.772089-syftap7w\u001b[0m\n",
      "\u001b[94m/home/vscode/sct_5.4/bin/isct_propseg -t t1 -o /workspaces/PhD/gdrive_data/BMPD/data/synthetic/sub-P011/anat -verbose -mesh -centerline-binary -CSF -centerline-coord -cross -init-tube -low-resolution-mesh -i /workspaces/PhD/gdrive_data/BMPD/data/raw/sub-P011/anat/sub-P011_T1w.nii.gz -init-centerline /tmp/sct-20220115000337.771364-label_vertebrae-cv_yhf1w/centerline_optic.nii.gz -centerline-binary # in /workspaces/PhD\u001b[0m\n",
      "\u001b[94mmv /workspaces/PhD/gdrive_data/BMPD/data/synthetic/sub-P011/anat/sub-P011_T1w_seg.nii.gz /workspaces/PhD/gdrive_data/BMPD/data/synthetic/sub-P011/anat/sub-P011_T1w_seg.nii.gz\u001b[0m\n",
      "\u001b[94mmv /workspaces/PhD/gdrive_data/BMPD/data/synthetic/sub-P011/anat/sub-P011_T1w_centerline.nii.gz /workspaces/PhD/gdrive_data/BMPD/data/synthetic/sub-P011/anat/sub-P011_T1w_centerline.nii.gz\u001b[0m\n",
      "\u001b[0m\n",
      "Check consistency of segmentation...\u001b[0m\n",
      "Creating temporary folder (/tmp/sct-20220115000519.009376-propseg-s6nplbq7)\n",
      "\u001b[0m/tmp/sct-20220115000519.009376-propseg-s6nplbq7/tmp.segmentation.nii.gz\u001b[0m\n",
      "\u001b[0m/tmp/sct-20220115000519.009376-propseg-s6nplbq7/tmp.centerline.nii.gz\u001b[0m\n",
      "\u001b[0m\n",
      "Get data dimensions...\u001b[0m\n",
      "\u001b[0m/tmp/sct-20220115000519.009376-propseg-s6nplbq7/tmp.segmentation_RPI_c.nii.gz\u001b[0m\n",
      "\u001b[94mrm -rf /tmp/sct-20220115000519.009376-propseg-s6nplbq7\u001b[0m\n",
      "\u001b[0mCopy header input --> output(s) to make sure qform is the same.\u001b[0m\n",
      "\u001b[33mFile /workspaces/PhD/gdrive_data/BMPD/data/synthetic/sub-P011/anat/sub-P011_T1w_seg.nii.gz already exists. Will overwrite it.\u001b[0m\n",
      "\u001b[33mFile /workspaces/PhD/gdrive_data/BMPD/data/synthetic/sub-P011/anat/sub-P011_T1w_centerline.nii.gz already exists. Will overwrite it.\u001b[0m\n",
      "\u001b[0m\n",
      "Done! To view results, type:\u001b[0m\n",
      "\u001b[92mfsleyes /workspaces/PhD/gdrive_data/BMPD/data/raw/sub-P011/anat/sub-P011_T1w.nii.gz -cm greyscale /workspaces/PhD/gdrive_data/BMPD/data/synthetic/sub-P011/anat/sub-P011_T1w_seg.nii.gz -cm red -a 100.0 &\n",
      "\u001b[0m\n"
     ]
    },
    {
     "name": "stderr",
     "output_type": "stream",
     "text": [
      " 10%|█         | 2/20 [02:47<26:13, 87.44s/it]"
     ]
    },
    {
     "name": "stdout",
     "output_type": "stream",
     "text": [
      "\n",
      "--\n",
      "Spinal Cord Toolbox (5.4)\n",
      "\n",
      "sct_propseg -i /workspaces/PhD/gdrive_data/BMPD/data/raw/sub-P013/anat/sub-P013_T1w.nii.gz -c t1 -ofolder /workspaces/PhD/gdrive_data/BMPD/data/synthetic/sub-P013/anat\n",
      "--\n",
      "\n",
      "Creating temporary folder (/tmp/sct-20220115000521.841571-label_vertebrae-l22m8iik)\n",
      "Creating temporary folder (/tmp/sct-20220115000521.842307-gg0g95r6)\n",
      "Remove temporary files...\n",
      "\u001b[94mrm -rf /tmp/sct-20220115000521.842307-gg0g95r6\u001b[0m\n",
      "\u001b[94m/home/vscode/sct_5.4/bin/isct_propseg -t t1 -o /workspaces/PhD/gdrive_data/BMPD/data/synthetic/sub-P013/anat -verbose -mesh -centerline-binary -CSF -centerline-coord -cross -init-tube -low-resolution-mesh -i /workspaces/PhD/gdrive_data/BMPD/data/raw/sub-P013/anat/sub-P013_T1w.nii.gz -init-centerline /tmp/sct-20220115000521.841571-label_vertebrae-l22m8iik/centerline_optic.nii.gz -centerline-binary # in /workspaces/PhD\u001b[0m\n"
     ]
    }
   ],
   "source": [
    "segment_images([*raw_T1w, *raw_T2w])\n"
   ]
  }
 ],
 "metadata": {
  "interpreter": {
   "hash": "e5030792b3492f6b12d94f1f48beca3d8e59ec05fd59d0aaaa48e684281ed297"
  },
  "kernelspec": {
   "display_name": "Python 3.7.12 64-bit",
   "language": "python",
   "name": "python3"
  },
  "language_info": {
   "codemirror_mode": {
    "name": "ipython",
    "version": 3
   },
   "file_extension": ".py",
   "mimetype": "text/x-python",
   "name": "python",
   "nbconvert_exporter": "python",
   "pygments_lexer": "ipython3",
   "version": "3.7.12"
  },
  "orig_nbformat": 4
 },
 "nbformat": 4,
 "nbformat_minor": 2
}
